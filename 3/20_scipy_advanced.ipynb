{
 "cells": [
  {
   "cell_type": "markdown",
   "id": "e01ce14d-b75e-44b9-beec-f5275d6b9732",
   "metadata": {},
   "source": [
    "# Python Grundlagen 20\n",
    "## SciPy - Fortgeschrittene Anwendungen\n",
    "***\n",
    "In diesem Notebook wird behandelt:\n",
    "- Digitale Signalverarbeitung mit `scipy.signal`\n",
    "- Lineare Algebra mit `scipy.linalg`\n",
    "- Statistische Berechnungen mit `scipy.stats`\n",
    "- Mehrdimensionale Bildverarbeitung mit `scipy.ndimage`\n",
    "***\n",
    "\n",
    "#### Bevor wir anfangen können importiere bitte die folgenden Module:"
   ]
  },
  {
   "cell_type": "code",
   "execution_count": null,
   "id": "4949295d-6a73-4cc1-a31f-1177e6ac660d",
   "metadata": {},
   "outputs": [],
   "source": [
    "import numpy as np\n",
    "import matplotlib.pyplot as plt"
   ]
  },
  {
   "cell_type": "markdown",
   "id": "4ee70bdd-b626-4a1a-a6f5-04add576be35",
   "metadata": {},
   "source": [
    "## 1 Digitale Signalverarbeitung\n",
    "\n",
    "Das Modul `scipy.signal` bietet umfangreiche Funktionen zur Signalverarbeitung, darunter Filter, Spektralanalyse und Signaltransformation. <br>\n",
    "\n",
    "```python\n",
    "# Beispiel: Generierung eines Signals mit mehreren Frequenzen\n",
    "t = np.linspace(0, 1, 1000)\n",
    "signal_rein = np.sin(2*np.pi*10*t) + 0.5*np.sin(2*np.pi*20*t)\n",
    "\n",
    "# Hinzufügen von Rauschen\n",
    "signal_verrauscht = signal_rein + np.random.normal(0, 0.5, t.shape)\n",
    "\n",
    "# Butterworth-Tiefpassfilter\n",
    "b, a = signal.butter(4, 15, 'low', fs=1000)\n",
    "signal_gefiltert = signal.filtfilt(b, a, signal_verrauscht)\n",
    "```\n",
    "\n",
    "#### 1.1 Aufgaben:\n",
    "> (a) Erstelle ein Signal, das aus drei Sinuswellen mit den Frequenzen 5 Hz, 50 Hz und 100 Hz besteht. Formel: `np.sin(2*pi*frequenz*numpy.array)`<br>\n",
    ">\n",
    "> (b) Berechne und plotte das Leistungsspektrum des Signals mit `signal.periodogram` für eine Spektralanalyse. <br>\n",
    ">\n",
    "> (c) Entwerfe einen Bandpassfilter mit der `signal.butter()`-Funktion und der `signal.filtfilt()`-Funktion, der nur die 50 Hz Komponente durchlässt und wende ihn auf das Signal aus (a) und das Leistungsspektrum aus (b) an. <br>\n",
    ">\n",
    "> (d) Erstelle eine Figure mit vier Subplots um die vier Ergebnisse miteinander zu vergleichen (Originalsignal, orig. Signal Leistungsspektrum, gefiltertes Originalsignal und gefiltertes Signal Leistungsspektrum)."
   ]
  },
  {
   "cell_type": "code",
   "execution_count": null,
   "id": "13ee6085-e5ba-4d91-8599-b86994a5d64f",
   "metadata": {},
   "outputs": [],
   "source": [
    "from scipy import signal\n",
    "# Deine Lösung:\n",
    "\n",
    "\n",
    "\n"
   ]
  },
  {
   "cell_type": "markdown",
   "id": "c4b8f00b-494c-4830-9c4f-7e06fb8bfd85",
   "metadata": {
    "jp-MarkdownHeadingCollapsed": true
   },
   "source": [
    "#### Lösung:"
   ]
  },
  {
   "cell_type": "code",
   "execution_count": null,
   "id": "1b70837b-f45f-4a2c-ac54-7b324fa56055",
   "metadata": {},
   "outputs": [],
   "source": [
    "# Signalgenerierung\n",
    "t = np.linspace(0, 1, 1000)\n",
    "f1, f2, f3 = 5, 50, 100\n",
    "signal_orig = np.sin(2*np.pi*f1*t) + np.sin(2*np.pi*f2*t) + np.sin(2*np.pi*f3*t)\n",
    "\n",
    "# Spektralanalyse\n",
    "f, Pxx = signal.periodogram(signal_orig, fs=1000)\n",
    "\n",
    "# Bandpassfilter\n",
    "b, a = signal.butter(4, [45, 55], 'bandpass', fs=1000)\n",
    "signal_gefiltert = signal.filtfilt(b, a, signal_orig)\n",
    "\n",
    "# Spektrum des gefilterten Signals\n",
    "f_filt, Pxx_filt = signal.periodogram(signal_gefiltert, fs=1000)\n",
    "\n",
    "# Figure zum Vergleich\n",
    "plt.figure(figsize=(12, 8))\n",
    "plt.subplot(221)\n",
    "plt.plot(t, signal_orig)\n",
    "plt.title('Originalsignal')\n",
    "plt.subplot(222)\n",
    "plt.plot(f, Pxx)\n",
    "plt.title('Leistungsspektrum Original')\n",
    "plt.subplot(223)\n",
    "plt.plot(t, signal_gefiltert)\n",
    "plt.title('Gefiltertes Signal')\n",
    "plt.subplot(224)\n",
    "plt.plot(f_filt, Pxx_filt)\n",
    "plt.title('Leistungsspektrum gefiltert');"
   ]
  },
  {
   "cell_type": "markdown",
   "id": "c1f01dd6-a46a-428e-80b9-b33be094146c",
   "metadata": {},
   "source": [
    "## 2 Lineare Algebra\n",
    "\n",
    "Das Modul `scipy.linalg` erweitert die Funktionalität von `numpy.linalg` um fortgeschrittene Operationen der linearen Algebra. <br>\n",
    "\n",
    "```python\n",
    "# Beispiel: Lösen eines linearen Gleichungssystems\n",
    "A = np.array([[1, 2], [3, 4]])\n",
    "b = np.array([5, 6])\n",
    "\n",
    "# Lösung mit verschiedenen Methoden\n",
    "x_solve = linalg.solve(A, b)\n",
    "x_lu = linalg.lu_solve(linalg.lu_factor(A), b)\n",
    "```\n",
    "\n",
    "#### 2.1 Aufgaben:\n",
    "> (a) Berechne die Eigenwerte und Eigenvektoren einer beliebigen 3x3 Matrix (z.B.: `A = np.array([[4, -2, 1], [-2, 3, -1], [1, -1, 2]])`) mit `linalg.eig()`. <br>\n",
    ">\n",
    "> (b) Führe eine QR-Zerlegung einer Matrix mit`linalg.qr()` durch und verifiziere das Ergebnis. <br>\n",
    ">\n",
    "> (c) Löse ein überbestimmtes Gleichungssystem mit der Methode der kleinsten Quadrate mit `linalg.lstsq()`. <br>\n"
   ]
  },
  {
   "cell_type": "code",
   "execution_count": null,
   "id": "12faddf3-fb1a-4752-8d97-948dc0ac654e",
   "metadata": {},
   "outputs": [],
   "source": [
    "from scipy import linalg\n",
    "# Deine Lösung:\n",
    "\n",
    "\n",
    "\n"
   ]
  },
  {
   "cell_type": "markdown",
   "id": "b0a39f45-4542-4525-be36-3bcc20338a68",
   "metadata": {
    "jp-MarkdownHeadingCollapsed": true
   },
   "source": [
    "#### Lösung:"
   ]
  },
  {
   "cell_type": "code",
   "execution_count": null,
   "id": "3c2dfb5b-526e-45fa-a124-47d7a45a4c86",
   "metadata": {},
   "outputs": [],
   "source": [
    "# Aufgabe a: Eigenwerte und Eigenvektoren\n",
    "A = np.array([[4, -2, 1], [-2, 3, -1], [1, -1, 2]])\n",
    "eigvals, eigvecs = linalg.eig(A)\n",
    "print(\"Eigenwerte:\", eigvals)\n",
    "print(\"Eigenvektoren:\\n\", eigvecs)\n",
    "\n",
    "# Aufgabe b: QR-Zerlegung\n",
    "Q, R = linalg.qr(A)\n",
    "print(\"\\nQR-Zerlegung Verifikation:\")\n",
    "print(\"||QR - A|| =\", np.linalg.norm(Q @ R - A))\n",
    "\n",
    "# Aufgabe c: Überbestimmtes System\n",
    "m, n = 5, 3\n",
    "X = np.random.rand(m, n)\n",
    "y = np.random.rand(m)\n",
    "beta, residuals, rank, s = linalg.lstsq(X, y)\n",
    "print(\"\\nLösung kleinste Quadrate:\", beta)\n"
   ]
  },
  {
   "cell_type": "markdown",
   "id": "cad0baee-863c-468e-98db-df251f4e1cff",
   "metadata": {},
   "source": [
    "## 3 Statistische Berechnungen\n",
    "\n",
    "Das Modul `scipy.stats` bietet eine große Auswahl an Wahrscheinlichkeitsverteilungen und statistischen Tests. <br>\n",
    "\n",
    "```python\n",
    "from scipy import stats\n",
    "import numpy as np\n",
    "\n",
    "# Beispiel: Anpassung einer Normalverteilung\n",
    "daten = np.random.normal(loc=10, scale=2, size=1000)\n",
    "mittelwert, std = stats.norm.fit(daten)\n",
    "```\n",
    "\n",
    "#### 3.1 Aufgaben:\n",
    "> (a) Führe einen Kolmogorov-Smirnov-Test mit der `stats.kstest()`-Funktion durch, um zu prüfen, ob die Werte in `daten` normalverteilt sind. <br>\n",
    ">\n",
    "> (b) Berechne ein Konfidenzintervall für den Mittelwert einer Stichprobe. <br>\n",
    ">\n",
    "> (c) Führe einen t-Test für zwei unabhängige Stichproben durch. <br>\n",
    ">\n",
    "> (d) Berechne die Pearson-Korrelation zwischen zwei Variablen und teste ihre Signifikanz."
   ]
  },
  {
   "cell_type": "code",
   "execution_count": null,
   "id": "40136e2d-26ae-4082-a9ae-9b114b93eba4",
   "metadata": {},
   "outputs": [],
   "source": [
    "from scipy import stats\n",
    "daten = np.random.normal(loc=0, scale=1, size=100)\n",
    "# Deine Lösung:\n",
    "\n",
    "\n",
    "\n"
   ]
  },
  {
   "cell_type": "markdown",
   "id": "d1b9d18b-baca-465c-a453-9b5d1fb36bfb",
   "metadata": {
    "jp-MarkdownHeadingCollapsed": true
   },
   "source": [
    "#### Lösung:"
   ]
  },
  {
   "cell_type": "code",
   "execution_count": null,
   "id": "9bb5633a-7780-4aae-8a1c-f3c8f9daec33",
   "metadata": {},
   "outputs": [],
   "source": [
    "# Aufgabe a: Kolmogorov-Smirnov-Test\n",
    "daten = np.random.normal(loc=0, scale=1, size=100)\n",
    "ks_statistik, p_wert = stats.kstest(daten, 'norm')\n",
    "print(\"KS-Test p-Wert:\", p_wert)\n",
    "print(ks_statistik)\n",
    "\n",
    "# Aufgabe b: Konfidenzintervall\n",
    "mittelwert = np.mean(daten)\n",
    "conf_interval = stats.t.interval(confidence=0.95, df=len(daten)-1,\n",
    "                               loc=mittelwert,\n",
    "                               scale=stats.sem(daten))\n",
    "print(\"\\nKonfidenzintervall:\", conf_interval)\n",
    "\n",
    "# Aufgabe c: t-Test\n",
    "gruppe1 = np.random.normal(loc=0, scale=1, size=50)\n",
    "gruppe2 = np.random.normal(loc=0.5, scale=1, size=50)\n",
    "t_stat, p_wert = stats.ttest_ind(gruppe1, gruppe2)\n",
    "print(\"\\nt-Test p-Wert:\", p_wert)\n",
    "\n",
    "# Aufgabe d: Pearson-Korrelation\n",
    "x = np.random.normal(0, 1, 100)\n",
    "y = 2*x + np.random.normal(0, 0.5, 100)\n",
    "r, p_wert = stats.pearsonr(x, y)\n",
    "print(\"\\nPearson r:\", r)\n",
    "print(\"Korrelation p-Wert:\", p_wert)"
   ]
  },
  {
   "cell_type": "markdown",
   "id": "25430e89-ef10-4a33-ae0a-a0418619d6e3",
   "metadata": {},
   "source": [
    "## 4 Mehrdimensionale Bildverarbeitung\n",
    "\n",
    "Das Modul `scipy.ndimage` bietet Funktionen zur mehrdimensionalen Bildverarbeitung. <br>\n",
    "\n",
    "```python\n",
    "from scipy import ndimage\n",
    "import numpy as np\n",
    "\n",
    "# Beispiel: Gauß-Filter auf einem Bild\n",
    "bild = np.random.rand(100, 100)\n",
    "bild_gefiltert = ndimage.gaussian_filter(bild, sigma=2)\n",
    "```\n",
    "\n",
    "#### 4.1 Aufgaben:\n",
    "\n",
    "> (a) Wende einen Sobel-Kantendetektionsfilter mit der <a href='https://docs.scipy.org/doc/scipy-1.15.3/reference/generated/scipy.ndimage.sobel.html'>`ndimage.sobel()`-Funktion</a> auf das Testbild `bild` an. <br>\n",
    "> *Tipp: Wende die Funktion einmal auf jede Achse des Bildes an, um die Gradientenvektoren für x- und y-Richtugn zu erhalten und berechne dann mit `np.hypot()` den Betrag der Vektoren um ein Bild zu erhalten, in dem die Kanten zu erkennen sind.*\n",
    ">\n",
    "> (b) Rotiere das Bild um 45 Grad mit der <a href='https://docs.scipy.org/doc/scipy/reference/generated/scipy.ndimage.rotate.html'> `ndimage.rotate()`-Funktion.</a> <br>\n",
    ">\n",
    "> (c) Entferne Rauschen aus dem Bild indem du mit der <a href='https://docs.scipy.org/doc/scipy-1.15.3/reference/generated/scipy.ndimage.median_filter.html'> `ndimage.median_filter()`-Funktion </a>einen Median-Filtern anwendest.\n",
    ">\n",
    "> (d) Plotte die Ergebnisse mit Matplotlib."
   ]
  },
  {
   "cell_type": "code",
   "execution_count": null,
   "id": "5d0b313b-5a63-44d2-923f-ba3c9b70fd05",
   "metadata": {},
   "outputs": [],
   "source": [
    "# Imports\n",
    "from scipy import ndimage\n",
    "import matplotlib.pyplot as plt\n",
    "import numpy as np\n",
    "\n",
    "# Erstellen des Testbilds mit numpy\n",
    "bild = np.zeros((100, 100))\n",
    "bild[25:75, 25:75] = 1\n",
    "bild = bild + np.random.normal(0, 0.1, bild.shape)\n",
    "\n",
    "# Deine Lösung:\n",
    "\n",
    "\n",
    "\n"
   ]
  },
  {
   "cell_type": "markdown",
   "id": "6fbaefb9-3d64-4e76-86ce-12309b8e1afd",
   "metadata": {
    "jp-MarkdownHeadingCollapsed": true
   },
   "source": [
    "#### Lösung:"
   ]
  },
  {
   "cell_type": "code",
   "execution_count": null,
   "id": "0fbc8273-7a50-4ce1-836f-c30033ea0e34",
   "metadata": {},
   "outputs": [],
   "source": [
    "from scipy import ndimage\n",
    "import matplotlib.pyplot as plt\n",
    "import numpy as np\n",
    "\n",
    "# Testbild erstellen\n",
    "bild = np.zeros((100, 100))\n",
    "bild[25:75, 25:75] = 1\n",
    "bild = bild + np.random.normal(0, 0.1, bild.shape)\n",
    "\n",
    "# Aufgabe a: Kantendetektion\n",
    "sobel_x = ndimage.sobel(bild, axis=0)\n",
    "sobel_y = ndimage.sobel(bild, axis=1)\n",
    "kanten_sobel = np.hypot(sobel_x, sobel_y)\n",
    "\n",
    "# Aufgabe b: Rotation\n",
    "winkel = 45\n",
    "rot_nearest = ndimage.rotate(bild, winkel)\n",
    "\n",
    "# Aufgabe c: Rauschentfernung\n",
    "median_gefiltert = ndimage.median_filter(bild, size=3)\n",
    "\n",
    "# Aufgabe d: Visualisierung\n",
    "plt.figure(figsize=(8, 6))\n",
    "\n",
    "plt.subplot(221)\n",
    "plt.imshow(bild, cmap='gray')\n",
    "plt.title('Originalbild')\n",
    "plt.axis('off')\n",
    "\n",
    "plt.subplot(222)\n",
    "plt.imshow(kanten_sobel, cmap='gray')\n",
    "plt.title('Sobel Kantendetektion')\n",
    "plt.axis('off')\n",
    "\n",
    "plt.subplot(223)\n",
    "plt.imshow(rot_nearest, cmap='gray')\n",
    "plt.title('Rotation')\n",
    "plt.axis('off')\n",
    "\n",
    "plt.subplot(224)\n",
    "plt.imshow(median_gefiltert, cmap='gray')\n",
    "plt.title('Median Filter')\n",
    "plt.axis('off')\n",
    "\n",
    "plt.tight_layout()\n",
    "plt.show()"
   ]
  },
  {
   "cell_type": "markdown",
   "id": "b9b63db9-425d-4f06-a76e-9ace782be3dd",
   "metadata": {},
   "source": [
    "## Fazit:\n",
    "\n",
    "SciPy bietet eine umfangreiche Sammlung von Werkzeugen für fortgeschrittene wissenschaftliche Berechnungen: <br>\n",
    "\n",
    "- Die Signalverarbeitung ermöglicht komplexe Filteroperationen und Frequenzanalysen <br>\n",
    "- Die lineare Algebra-Funktionen sind optimiert für numerische Stabilität <br>\n",
    "- Die statistischen Funktionen decken die meisten gängigen Tests und Verteilungen ab <br>\n",
    "- Die Bildverarbeitung unterstützt mehrdimensionale Arrays mit verschiedenen Filteroperationen <br>\n",
    "\n",
    "In der Praxis werden diese Funktionen oft kombiniert, um komplexe wissenschaftliche Probleme zu lösen. <br>"
   ]
  }
 ],
 "metadata": {
  "kernelspec": {
   "display_name": "Python 3 (ipykernel)",
   "language": "python",
   "name": "python3"
  },
  "language_info": {
   "codemirror_mode": {
    "name": "ipython",
    "version": 3
   },
   "file_extension": ".py",
   "mimetype": "text/x-python",
   "name": "python",
   "nbconvert_exporter": "python",
   "pygments_lexer": "ipython3",
   "version": "3.10.0"
  }
 },
 "nbformat": 4,
 "nbformat_minor": 5
}
